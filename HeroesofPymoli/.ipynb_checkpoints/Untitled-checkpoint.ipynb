{
 "cells": [
  {
   "cell_type": "code",
   "execution_count": 1,
   "metadata": {},
   "outputs": [],
   "source": [
    "import pandas as pd\n",
    "import numpy as np\n",
    "file_to_load = \"Resources/purchase_data.csv\"\n",
    "purchase_data = pd.read_csv(file_to_load)"
   ]
  },
  {
   "cell_type": "code",
   "execution_count": 2,
   "metadata": {
    "scrolled": false
   },
   "outputs": [
    {
     "data": {
      "text/html": [
       "<div>\n",
       "<style scoped>\n",
       "    .dataframe tbody tr th:only-of-type {\n",
       "        vertical-align: middle;\n",
       "    }\n",
       "\n",
       "    .dataframe tbody tr th {\n",
       "        vertical-align: top;\n",
       "    }\n",
       "\n",
       "    .dataframe thead th {\n",
       "        text-align: right;\n",
       "    }\n",
       "</style>\n",
       "<table border=\"1\" class=\"dataframe\">\n",
       "  <thead>\n",
       "    <tr style=\"text-align: right;\">\n",
       "      <th></th>\n",
       "      <th>Purchase ID</th>\n",
       "      <th>SN</th>\n",
       "      <th>Age</th>\n",
       "      <th>Gender</th>\n",
       "      <th>Item ID</th>\n",
       "      <th>Item Name</th>\n",
       "      <th>Price</th>\n",
       "    </tr>\n",
       "  </thead>\n",
       "  <tbody>\n",
       "    <tr>\n",
       "      <th>0</th>\n",
       "      <td>0</td>\n",
       "      <td>Lisim78</td>\n",
       "      <td>20</td>\n",
       "      <td>Male</td>\n",
       "      <td>108</td>\n",
       "      <td>Extraction, Quickblade Of Trembling Hands</td>\n",
       "      <td>3.53</td>\n",
       "    </tr>\n",
       "    <tr>\n",
       "      <th>1</th>\n",
       "      <td>1</td>\n",
       "      <td>Lisovynya38</td>\n",
       "      <td>40</td>\n",
       "      <td>Male</td>\n",
       "      <td>143</td>\n",
       "      <td>Frenzied Scimitar</td>\n",
       "      <td>1.56</td>\n",
       "    </tr>\n",
       "    <tr>\n",
       "      <th>2</th>\n",
       "      <td>2</td>\n",
       "      <td>Ithergue48</td>\n",
       "      <td>24</td>\n",
       "      <td>Male</td>\n",
       "      <td>92</td>\n",
       "      <td>Final Critic</td>\n",
       "      <td>4.88</td>\n",
       "    </tr>\n",
       "    <tr>\n",
       "      <th>3</th>\n",
       "      <td>3</td>\n",
       "      <td>Chamassasya86</td>\n",
       "      <td>24</td>\n",
       "      <td>Male</td>\n",
       "      <td>100</td>\n",
       "      <td>Blindscythe</td>\n",
       "      <td>3.27</td>\n",
       "    </tr>\n",
       "    <tr>\n",
       "      <th>4</th>\n",
       "      <td>4</td>\n",
       "      <td>Iskosia90</td>\n",
       "      <td>23</td>\n",
       "      <td>Male</td>\n",
       "      <td>131</td>\n",
       "      <td>Fury</td>\n",
       "      <td>1.44</td>\n",
       "    </tr>\n",
       "  </tbody>\n",
       "</table>\n",
       "</div>"
      ],
      "text/plain": [
       "   Purchase ID             SN  Age Gender  Item ID  \\\n",
       "0            0        Lisim78   20   Male      108   \n",
       "1            1    Lisovynya38   40   Male      143   \n",
       "2            2     Ithergue48   24   Male       92   \n",
       "3            3  Chamassasya86   24   Male      100   \n",
       "4            4      Iskosia90   23   Male      131   \n",
       "\n",
       "                                   Item Name  Price  \n",
       "0  Extraction, Quickblade Of Trembling Hands   3.53  \n",
       "1                          Frenzied Scimitar   1.56  \n",
       "2                               Final Critic   4.88  \n",
       "3                                Blindscythe   3.27  \n",
       "4                                       Fury   1.44  "
      ]
     },
     "execution_count": 2,
     "metadata": {},
     "output_type": "execute_result"
    }
   ],
   "source": [
    "purchase_data.head()"
   ]
  },
  {
   "cell_type": "code",
   "execution_count": 3,
   "metadata": {},
   "outputs": [
    {
     "data": {
      "text/plain": [
       "Lisosia93        5\n",
       "Idastidru52      4\n",
       "Iral74           4\n",
       "Ialallo29        3\n",
       "Inguron55        3\n",
       "                ..\n",
       "Assesi91         1\n",
       "Saida58          1\n",
       "Lirtirra37       1\n",
       "Phaedasurap84    1\n",
       "Lisirra58        1\n",
       "Name: SN, Length: 576, dtype: int64"
      ]
     },
     "execution_count": 3,
     "metadata": {},
     "output_type": "execute_result"
    }
   ],
   "source": [
    "Unique_Player = purchase_data[\"SN\"].value_counts()\n",
    "Unique_Player"
   ]
  },
  {
   "cell_type": "code",
   "execution_count": 47,
   "metadata": {},
   "outputs": [
    {
     "data": {
      "text/plain": [
       "576"
      ]
     },
     "execution_count": 47,
     "metadata": {},
     "output_type": "execute_result"
    }
   ],
   "source": [
    "Length = len(Unique_Player)\n",
    "Length"
   ]
  },
  {
   "cell_type": "code",
   "execution_count": 5,
   "metadata": {},
   "outputs": [
    {
     "data": {
      "text/html": [
       "<div>\n",
       "<style scoped>\n",
       "    .dataframe tbody tr th:only-of-type {\n",
       "        vertical-align: middle;\n",
       "    }\n",
       "\n",
       "    .dataframe tbody tr th {\n",
       "        vertical-align: top;\n",
       "    }\n",
       "\n",
       "    .dataframe thead th {\n",
       "        text-align: right;\n",
       "    }\n",
       "</style>\n",
       "<table border=\"1\" class=\"dataframe\">\n",
       "  <thead>\n",
       "    <tr style=\"text-align: right;\">\n",
       "      <th></th>\n",
       "      <th>Total Players</th>\n",
       "    </tr>\n",
       "  </thead>\n",
       "  <tbody>\n",
       "    <tr>\n",
       "      <th>0</th>\n",
       "      <td>576</td>\n",
       "    </tr>\n",
       "  </tbody>\n",
       "</table>\n",
       "</div>"
      ],
      "text/plain": [
       "   Total Players\n",
       "0            576"
      ]
     },
     "execution_count": 5,
     "metadata": {},
     "output_type": "execute_result"
    }
   ],
   "source": [
    "player_dict = [{\"Total Players\": Length}]\n",
    "player_df = pd.DataFrame(player_dict)\n",
    "player_df"
   ]
  },
  {
   "cell_type": "code",
   "execution_count": 6,
   "metadata": {
    "scrolled": true
   },
   "outputs": [
    {
     "data": {
      "text/plain": [
       "3.05"
      ]
     },
     "execution_count": 6,
     "metadata": {},
     "output_type": "execute_result"
    }
   ],
   "source": [
    "Sum_Price = purchase_data[\"Price\"].sum()\n",
    "Sum_Price\n",
    "Unique_Items = purchase_data[\"Item Name\"].value_counts()\n",
    "Number_Unique = len(Unique_Items)\n",
    "Number_Unique\n",
    "Number_Purchases = purchase_data[\"Purchase ID\"].value_counts()\n",
    "Total_Purc = len(Number_Purchases)\n",
    "Total_Purc\n",
    "Avg_Price = Sum_Price/Total_Purc\n",
    "Round_Avg_Price = round(Avg_Price,2)\n",
    "Round_Avg_Price"
   ]
  },
  {
   "cell_type": "code",
   "execution_count": 7,
   "metadata": {},
   "outputs": [
    {
     "data": {
      "text/html": [
       "<div>\n",
       "<style scoped>\n",
       "    .dataframe tbody tr th:only-of-type {\n",
       "        vertical-align: middle;\n",
       "    }\n",
       "\n",
       "    .dataframe tbody tr th {\n",
       "        vertical-align: top;\n",
       "    }\n",
       "\n",
       "    .dataframe thead th {\n",
       "        text-align: right;\n",
       "    }\n",
       "</style>\n",
       "<table border=\"1\" class=\"dataframe\">\n",
       "  <thead>\n",
       "    <tr style=\"text-align: right;\">\n",
       "      <th></th>\n",
       "      <th>Number of Unique Items</th>\n",
       "      <th>Average Price</th>\n",
       "      <th>Number of Purchases</th>\n",
       "      <th>Total Revenue</th>\n",
       "    </tr>\n",
       "  </thead>\n",
       "  <tbody>\n",
       "    <tr>\n",
       "      <th>0</th>\n",
       "      <td>179</td>\n",
       "      <td>$3.05</td>\n",
       "      <td>780</td>\n",
       "      <td>$2379.77</td>\n",
       "    </tr>\n",
       "  </tbody>\n",
       "</table>\n",
       "</div>"
      ],
      "text/plain": [
       "   Number of Unique Items Average Price  Number of Purchases Total Revenue\n",
       "0                     179         $3.05                  780      $2379.77"
      ]
     },
     "execution_count": 7,
     "metadata": {},
     "output_type": "execute_result"
    }
   ],
   "source": [
    "purchasing_df = pd.DataFrame(\n",
    "    {\"Number of Unique Items\":[Number_Unique],\n",
    "     \"Average Price\": [\"$\" + str(Round_Avg_Price)],\n",
    "     \"Number of Purchases\":[Total_Purc],\n",
    "     \"Total Revenue\": [\"$\" + str(Sum_Price)]\n",
    "    }\n",
    ")\n",
    "purchasing_df"
   ]
  },
  {
   "cell_type": "code",
   "execution_count": 8,
   "metadata": {},
   "outputs": [
    {
     "data": {
      "text/plain": [
       "'$3.05'"
      ]
     },
     "execution_count": 8,
     "metadata": {},
     "output_type": "execute_result"
    }
   ],
   "source": [
    "\"${0:,.2f}\".format(Avg_Price)"
   ]
  },
  {
   "cell_type": "code",
   "execution_count": 9,
   "metadata": {},
   "outputs": [
    {
     "data": {
      "text/plain": [
       "Male                     652\n",
       "Female                   113\n",
       "Other / Non-Disclosed     15\n",
       "Name: Gender, dtype: int64"
      ]
     },
     "execution_count": 9,
     "metadata": {},
     "output_type": "execute_result"
    }
   ],
   "source": [
    "Gender_Count = purchase_data[\"Gender\"].value_counts()\n",
    "Gender_Count"
   ]
  },
  {
   "cell_type": "code",
   "execution_count": 10,
   "metadata": {},
   "outputs": [
    {
     "data": {
      "text/html": [
       "<div>\n",
       "<style scoped>\n",
       "    .dataframe tbody tr th:only-of-type {\n",
       "        vertical-align: middle;\n",
       "    }\n",
       "\n",
       "    .dataframe tbody tr th {\n",
       "        vertical-align: top;\n",
       "    }\n",
       "\n",
       "    .dataframe thead th {\n",
       "        text-align: right;\n",
       "    }\n",
       "</style>\n",
       "<table border=\"1\" class=\"dataframe\">\n",
       "  <thead>\n",
       "    <tr style=\"text-align: right;\">\n",
       "      <th></th>\n",
       "      <th>Purchase ID</th>\n",
       "      <th>SN</th>\n",
       "      <th>Age</th>\n",
       "      <th>Item ID</th>\n",
       "      <th>Item Name</th>\n",
       "      <th>Price</th>\n",
       "    </tr>\n",
       "    <tr>\n",
       "      <th>Gender</th>\n",
       "      <th></th>\n",
       "      <th></th>\n",
       "      <th></th>\n",
       "      <th></th>\n",
       "      <th></th>\n",
       "      <th></th>\n",
       "    </tr>\n",
       "  </thead>\n",
       "  <tbody>\n",
       "    <tr>\n",
       "      <th>Male</th>\n",
       "      <td>0</td>\n",
       "      <td>Lisim78</td>\n",
       "      <td>20</td>\n",
       "      <td>108</td>\n",
       "      <td>Extraction, Quickblade Of Trembling Hands</td>\n",
       "      <td>3.53</td>\n",
       "    </tr>\n",
       "    <tr>\n",
       "      <th>Male</th>\n",
       "      <td>1</td>\n",
       "      <td>Lisovynya38</td>\n",
       "      <td>40</td>\n",
       "      <td>143</td>\n",
       "      <td>Frenzied Scimitar</td>\n",
       "      <td>1.56</td>\n",
       "    </tr>\n",
       "    <tr>\n",
       "      <th>Male</th>\n",
       "      <td>2</td>\n",
       "      <td>Ithergue48</td>\n",
       "      <td>24</td>\n",
       "      <td>92</td>\n",
       "      <td>Final Critic</td>\n",
       "      <td>4.88</td>\n",
       "    </tr>\n",
       "    <tr>\n",
       "      <th>Male</th>\n",
       "      <td>3</td>\n",
       "      <td>Chamassasya86</td>\n",
       "      <td>24</td>\n",
       "      <td>100</td>\n",
       "      <td>Blindscythe</td>\n",
       "      <td>3.27</td>\n",
       "    </tr>\n",
       "    <tr>\n",
       "      <th>Male</th>\n",
       "      <td>4</td>\n",
       "      <td>Iskosia90</td>\n",
       "      <td>23</td>\n",
       "      <td>131</td>\n",
       "      <td>Fury</td>\n",
       "      <td>1.44</td>\n",
       "    </tr>\n",
       "  </tbody>\n",
       "</table>\n",
       "</div>"
      ],
      "text/plain": [
       "        Purchase ID             SN  Age  Item ID  \\\n",
       "Gender                                             \n",
       "Male              0        Lisim78   20      108   \n",
       "Male              1    Lisovynya38   40      143   \n",
       "Male              2     Ithergue48   24       92   \n",
       "Male              3  Chamassasya86   24      100   \n",
       "Male              4      Iskosia90   23      131   \n",
       "\n",
       "                                        Item Name  Price  \n",
       "Gender                                                    \n",
       "Male    Extraction, Quickblade Of Trembling Hands   3.53  \n",
       "Male                            Frenzied Scimitar   1.56  \n",
       "Male                                 Final Critic   4.88  \n",
       "Male                                  Blindscythe   3.27  \n",
       "Male                                         Fury   1.44  "
      ]
     },
     "execution_count": 10,
     "metadata": {},
     "output_type": "execute_result"
    }
   ],
   "source": [
    "df = purchase_data.set_index(\"Gender\")\n",
    "df.head()"
   ]
  },
  {
   "cell_type": "code",
   "execution_count": 11,
   "metadata": {},
   "outputs": [
    {
     "data": {
      "text/plain": [
       "484"
      ]
     },
     "execution_count": 11,
     "metadata": {},
     "output_type": "execute_result"
    }
   ],
   "source": [
    "Male = df.loc[\"Male\",\"SN\"].value_counts()\n",
    "Male_Total = len(Male)\n",
    "Male_Total"
   ]
  },
  {
   "cell_type": "code",
   "execution_count": 12,
   "metadata": {},
   "outputs": [
    {
     "data": {
      "text/plain": [
       "81"
      ]
     },
     "execution_count": 12,
     "metadata": {},
     "output_type": "execute_result"
    }
   ],
   "source": [
    "Female = df.loc[\"Female\",\"SN\"].value_counts()\n",
    "Female_Total = len(Female)\n",
    "Female_Total"
   ]
  },
  {
   "cell_type": "code",
   "execution_count": 13,
   "metadata": {},
   "outputs": [
    {
     "data": {
      "text/plain": [
       "11"
      ]
     },
     "execution_count": 13,
     "metadata": {},
     "output_type": "execute_result"
    }
   ],
   "source": [
    "Other = df.loc[\"Other / Non-Disclosed\",\"SN\"].value_counts()\n",
    "Other_Total = len(Other)\n",
    "Other_Total"
   ]
  },
  {
   "cell_type": "code",
   "execution_count": 14,
   "metadata": {},
   "outputs": [
    {
     "data": {
      "text/plain": [
       "84.03"
      ]
     },
     "execution_count": 14,
     "metadata": {},
     "output_type": "execute_result"
    }
   ],
   "source": [
    "RoundMT = round((Male_Total/Length * 100),2)\n",
    "RoundMT"
   ]
  },
  {
   "cell_type": "code",
   "execution_count": 15,
   "metadata": {},
   "outputs": [
    {
     "data": {
      "text/plain": [
       "14.06"
      ]
     },
     "execution_count": 15,
     "metadata": {},
     "output_type": "execute_result"
    }
   ],
   "source": [
    "RoundFT = round((Female_Total/Length * 100),2)\n",
    "RoundFT"
   ]
  },
  {
   "cell_type": "code",
   "execution_count": 16,
   "metadata": {},
   "outputs": [
    {
     "data": {
      "text/plain": [
       "1.91"
      ]
     },
     "execution_count": 16,
     "metadata": {},
     "output_type": "execute_result"
    }
   ],
   "source": [
    "RoundOT = round((Other_Total/Length * 100),2)\n",
    "RoundOT"
   ]
  },
  {
   "cell_type": "code",
   "execution_count": 17,
   "metadata": {},
   "outputs": [
    {
     "data": {
      "text/html": [
       "<div>\n",
       "<style scoped>\n",
       "    .dataframe tbody tr th:only-of-type {\n",
       "        vertical-align: middle;\n",
       "    }\n",
       "\n",
       "    .dataframe tbody tr th {\n",
       "        vertical-align: top;\n",
       "    }\n",
       "\n",
       "    .dataframe thead th {\n",
       "        text-align: right;\n",
       "    }\n",
       "</style>\n",
       "<table border=\"1\" class=\"dataframe\">\n",
       "  <thead>\n",
       "    <tr style=\"text-align: right;\">\n",
       "      <th></th>\n",
       "      <th>Total Count</th>\n",
       "      <th>Percentage of Players</th>\n",
       "    </tr>\n",
       "  </thead>\n",
       "  <tbody>\n",
       "    <tr>\n",
       "      <th>Male</th>\n",
       "      <td>484</td>\n",
       "      <td>84.03%</td>\n",
       "    </tr>\n",
       "    <tr>\n",
       "      <th>Female</th>\n",
       "      <td>81</td>\n",
       "      <td>14.06%</td>\n",
       "    </tr>\n",
       "    <tr>\n",
       "      <th>Other/Non-Disclosed</th>\n",
       "      <td>11</td>\n",
       "      <td>1.91%</td>\n",
       "    </tr>\n",
       "  </tbody>\n",
       "</table>\n",
       "</div>"
      ],
      "text/plain": [
       "                     Total Count Percentage of Players\n",
       "Male                         484                84.03%\n",
       "Female                        81                14.06%\n",
       "Other/Non-Disclosed           11                 1.91%"
      ]
     },
     "execution_count": 17,
     "metadata": {},
     "output_type": "execute_result"
    }
   ],
   "source": [
    "gender_df = pd.DataFrame(\n",
    "    {\"Total Count\": [Male_Total, Female_Total, Other_Total],\n",
    "    \"Percentage of Players\": [str(RoundMT) + \"%\", str(RoundFT) + \"%\", str(RoundOT) + \"%\"],\n",
    "    },\n",
    "    index = [\"Male\", \"Female\", \"Other/Non-Disclosed\"]\n",
    ")\n",
    "gender_df"
   ]
  },
  {
   "cell_type": "code",
   "execution_count": 18,
   "metadata": {},
   "outputs": [
    {
     "data": {
      "text/plain": [
       "Male                     652\n",
       "Female                   113\n",
       "Other / Non-Disclosed     15\n",
       "Name: Gender, dtype: int64"
      ]
     },
     "execution_count": 18,
     "metadata": {},
     "output_type": "execute_result"
    }
   ],
   "source": [
    "Male_Purch = purchase_data[\"Gender\"].value_counts()\n",
    "Male_Purch"
   ]
  },
  {
   "cell_type": "code",
   "execution_count": 19,
   "metadata": {},
   "outputs": [
    {
     "data": {
      "text/plain": [
       "652"
      ]
     },
     "execution_count": 19,
     "metadata": {},
     "output_type": "execute_result"
    }
   ],
   "source": [
    "M_ID = df.loc[\"Male\",\"Purchase ID\"].value_counts()\n",
    "Male_PID = len(M_ID)\n",
    "Male_PID"
   ]
  },
  {
   "cell_type": "code",
   "execution_count": 20,
   "metadata": {},
   "outputs": [
    {
     "data": {
      "text/plain": [
       "113"
      ]
     },
     "execution_count": 20,
     "metadata": {},
     "output_type": "execute_result"
    }
   ],
   "source": [
    "F_ID = df.loc[\"Female\",\"Purchase ID\"].value_counts()\n",
    "Female_PID = len(F_ID)\n",
    "Female_PID"
   ]
  },
  {
   "cell_type": "code",
   "execution_count": 21,
   "metadata": {},
   "outputs": [
    {
     "data": {
      "text/plain": [
       "15"
      ]
     },
     "execution_count": 21,
     "metadata": {},
     "output_type": "execute_result"
    }
   ],
   "source": [
    "O_ID = df.loc[\"Other / Non-Disclosed\",\"Purchase ID\"].value_counts()\n",
    "Other_PID = len(O_ID)\n",
    "Other_PID"
   ]
  },
  {
   "cell_type": "code",
   "execution_count": 22,
   "metadata": {},
   "outputs": [
    {
     "data": {
      "text/plain": [
       "1967.64"
      ]
     },
     "execution_count": 22,
     "metadata": {},
     "output_type": "execute_result"
    }
   ],
   "source": [
    "MTPV = df.loc[\"Male\", \"Price\"].sum()\n",
    "MTPV"
   ]
  },
  {
   "cell_type": "code",
   "execution_count": 23,
   "metadata": {},
   "outputs": [
    {
     "data": {
      "text/plain": [
       "361.94"
      ]
     },
     "execution_count": 23,
     "metadata": {},
     "output_type": "execute_result"
    }
   ],
   "source": [
    "FTPV = df.loc[\"Female\", \"Price\"].sum()\n",
    "FTPV"
   ]
  },
  {
   "cell_type": "code",
   "execution_count": 24,
   "metadata": {},
   "outputs": [
    {
     "data": {
      "text/plain": [
       "50.19"
      ]
     },
     "execution_count": 24,
     "metadata": {},
     "output_type": "execute_result"
    }
   ],
   "source": [
    "OTPV = df.loc[\"Other / Non-Disclosed\", \"Price\"].sum()\n",
    "OTPV"
   ]
  },
  {
   "cell_type": "code",
   "execution_count": 25,
   "metadata": {},
   "outputs": [
    {
     "data": {
      "text/plain": [
       "3.2"
      ]
     },
     "execution_count": 25,
     "metadata": {},
     "output_type": "execute_result"
    }
   ],
   "source": [
    "Round_F = round((FTPV/Female_PID),2)\n",
    "Round_F"
   ]
  },
  {
   "cell_type": "code",
   "execution_count": 26,
   "metadata": {},
   "outputs": [
    {
     "data": {
      "text/plain": [
       "3.02"
      ]
     },
     "execution_count": 26,
     "metadata": {},
     "output_type": "execute_result"
    }
   ],
   "source": [
    "Round_M = round((MTPV/Male_PID),2)\n",
    "Round_M"
   ]
  },
  {
   "cell_type": "code",
   "execution_count": 27,
   "metadata": {},
   "outputs": [
    {
     "data": {
      "text/plain": [
       "3.35"
      ]
     },
     "execution_count": 27,
     "metadata": {},
     "output_type": "execute_result"
    }
   ],
   "source": [
    "Round_O = round((OTPV/Other_PID),2)\n",
    "Round_O"
   ]
  },
  {
   "cell_type": "code",
   "execution_count": 28,
   "metadata": {},
   "outputs": [
    {
     "data": {
      "text/plain": [
       "4.47"
      ]
     },
     "execution_count": 28,
     "metadata": {},
     "output_type": "execute_result"
    }
   ],
   "source": [
    "Round_Avg_F = round((FTPV/Female_Total),2)\n",
    "Round_Avg_F"
   ]
  },
  {
   "cell_type": "code",
   "execution_count": 29,
   "metadata": {},
   "outputs": [
    {
     "data": {
      "text/plain": [
       "4.07"
      ]
     },
     "execution_count": 29,
     "metadata": {},
     "output_type": "execute_result"
    }
   ],
   "source": [
    "Round_Avg_M = round((MTPV/Male_Total),2)\n",
    "Round_Avg_M"
   ]
  },
  {
   "cell_type": "code",
   "execution_count": 30,
   "metadata": {},
   "outputs": [
    {
     "data": {
      "text/plain": [
       "4.56"
      ]
     },
     "execution_count": 30,
     "metadata": {},
     "output_type": "execute_result"
    }
   ],
   "source": [
    "Round_Avg_O = round((OTPV/Other_Total),2)\n",
    "Round_Avg_O"
   ]
  },
  {
   "cell_type": "code",
   "execution_count": 31,
   "metadata": {},
   "outputs": [
    {
     "data": {
      "text/html": [
       "<div>\n",
       "<style scoped>\n",
       "    .dataframe tbody tr th:only-of-type {\n",
       "        vertical-align: middle;\n",
       "    }\n",
       "\n",
       "    .dataframe tbody tr th {\n",
       "        vertical-align: top;\n",
       "    }\n",
       "\n",
       "    .dataframe thead th {\n",
       "        text-align: right;\n",
       "    }\n",
       "</style>\n",
       "<table border=\"1\" class=\"dataframe\">\n",
       "  <thead>\n",
       "    <tr style=\"text-align: right;\">\n",
       "      <th></th>\n",
       "      <th>Purchase Count</th>\n",
       "      <th>Average Purchase Price</th>\n",
       "      <th>Total Purchase Value</th>\n",
       "      <th>Avg Total Purchase per Person</th>\n",
       "    </tr>\n",
       "  </thead>\n",
       "  <tbody>\n",
       "    <tr>\n",
       "      <th>Gender</th>\n",
       "      <td></td>\n",
       "      <td></td>\n",
       "      <td></td>\n",
       "      <td></td>\n",
       "    </tr>\n",
       "    <tr>\n",
       "      <th>Female</th>\n",
       "      <td>113</td>\n",
       "      <td>$3.20</td>\n",
       "      <td>$361.94</td>\n",
       "      <td>$4.47</td>\n",
       "    </tr>\n",
       "    <tr>\n",
       "      <th>Male</th>\n",
       "      <td>652</td>\n",
       "      <td>$3.02</td>\n",
       "      <td>$1967.64</td>\n",
       "      <td>$4.07</td>\n",
       "    </tr>\n",
       "    <tr>\n",
       "      <th>Other/Non-Disclosed</th>\n",
       "      <td>15</td>\n",
       "      <td>$3.35</td>\n",
       "      <td>$50.19</td>\n",
       "      <td>$4.56</td>\n",
       "    </tr>\n",
       "  </tbody>\n",
       "</table>\n",
       "</div>"
      ],
      "text/plain": [
       "                    Purchase Count Average Purchase Price  \\\n",
       "Gender                                                      \n",
       "Female                         113                  $3.20   \n",
       "Male                           652                  $3.02   \n",
       "Other/Non-Disclosed             15                  $3.35   \n",
       "\n",
       "                    Total Purchase Value Avg Total Purchase per Person  \n",
       "Gender                                                                  \n",
       "Female                           $361.94                         $4.47  \n",
       "Male                            $1967.64                         $4.07  \n",
       "Other/Non-Disclosed               $50.19                         $4.56  "
      ]
     },
     "execution_count": 31,
     "metadata": {},
     "output_type": "execute_result"
    }
   ],
   "source": [
    "purch_analysis_df = pd.DataFrame(\n",
    "    {\"Purchase Count\": [\" \",Female_PID,Male_PID,Other_PID],\n",
    "    \"Average Purchase Price\": [\" \",\"$\" + str(Round_F) +\"0\",\"$\" + str(Round_M),\"$\" + str(Round_O)],\n",
    "    \"Total Purchase Value\": [\" \",\"$\" + str(FTPV),\"$\" + str(MTPV),\"$\" + str(OTPV)],\n",
    "    \"Avg Total Purchase per Person\": [\" \",'$'+str(Round_Avg_F),'$'+str(Round_Avg_M),'$'+str(Round_Avg_O)]\n",
    "    },\n",
    "    index = [\"Gender\", \"Female\", \"Male\", \"Other/Non-Disclosed\"]\n",
    ")\n",
    "purch_analysis_df"
   ]
  },
  {
   "cell_type": "code",
   "execution_count": 93,
   "metadata": {},
   "outputs": [
    {
     "data": {
      "text/plain": [
       "Gender\n",
       "Female                    81\n",
       "Male                     484\n",
       "Other / Non-Disclosed     11\n",
       "Name: SN, dtype: int64"
      ]
     },
     "execution_count": 93,
     "metadata": {},
     "output_type": "execute_result"
    }
   ],
   "source": [
    "purchase_analysis = purchase_data.groupby(\"Gender\")[\"Purchase ID\"].count()\n",
    "tot_purch_value = purchase_data.groupby(\"Gender\")[\"Price\"].sum()\n",
    "avg_purch_value = purchase_data.groupby(\"Gender\")[\"Price\"].mean()\n",
    "gender_totals = purchase_data.groupby(\"Gender\")[\"SN\"].nunique()\n",
    "gender_totals"
   ]
  },
  {
   "cell_type": "code",
   "execution_count": 95,
   "metadata": {},
   "outputs": [
    {
     "data": {
      "text/html": [
       "<style  type=\"text/css\" >\n",
       "</style><table id=\"T_79ece43a_9366_11eb_9fad_940853782236\" ><thead>    <tr>        <th class=\"blank level0\" ></th>        <th class=\"col_heading level0 col0\" >Purchase Count</th>        <th class=\"col_heading level0 col1\" >Average Purchase Price</th>        <th class=\"col_heading level0 col2\" >Total Purchase Value</th>        <th class=\"col_heading level0 col3\" >Avg Total Purchase per Person</th>    </tr>    <tr>        <th class=\"index_name level0\" >Gender</th>        <th class=\"blank\" ></th>        <th class=\"blank\" ></th>        <th class=\"blank\" ></th>        <th class=\"blank\" ></th>    </tr></thead><tbody>\n",
       "                <tr>\n",
       "                        <th id=\"T_79ece43a_9366_11eb_9fad_940853782236level0_row0\" class=\"row_heading level0 row0\" >Female</th>\n",
       "                        <td id=\"T_79ece43a_9366_11eb_9fad_940853782236row0_col0\" class=\"data row0 col0\" >113</td>\n",
       "                        <td id=\"T_79ece43a_9366_11eb_9fad_940853782236row0_col1\" class=\"data row0 col1\" >$3.20</td>\n",
       "                        <td id=\"T_79ece43a_9366_11eb_9fad_940853782236row0_col2\" class=\"data row0 col2\" >$361.94</td>\n",
       "                        <td id=\"T_79ece43a_9366_11eb_9fad_940853782236row0_col3\" class=\"data row0 col3\" >$4.47</td>\n",
       "            </tr>\n",
       "            <tr>\n",
       "                        <th id=\"T_79ece43a_9366_11eb_9fad_940853782236level0_row1\" class=\"row_heading level0 row1\" >Male</th>\n",
       "                        <td id=\"T_79ece43a_9366_11eb_9fad_940853782236row1_col0\" class=\"data row1 col0\" >652</td>\n",
       "                        <td id=\"T_79ece43a_9366_11eb_9fad_940853782236row1_col1\" class=\"data row1 col1\" >$3.02</td>\n",
       "                        <td id=\"T_79ece43a_9366_11eb_9fad_940853782236row1_col2\" class=\"data row1 col2\" >$1967.64</td>\n",
       "                        <td id=\"T_79ece43a_9366_11eb_9fad_940853782236row1_col3\" class=\"data row1 col3\" >$4.07</td>\n",
       "            </tr>\n",
       "            <tr>\n",
       "                        <th id=\"T_79ece43a_9366_11eb_9fad_940853782236level0_row2\" class=\"row_heading level0 row2\" >Other / Non-Disclosed</th>\n",
       "                        <td id=\"T_79ece43a_9366_11eb_9fad_940853782236row2_col0\" class=\"data row2 col0\" >15</td>\n",
       "                        <td id=\"T_79ece43a_9366_11eb_9fad_940853782236row2_col1\" class=\"data row2 col1\" >$3.35</td>\n",
       "                        <td id=\"T_79ece43a_9366_11eb_9fad_940853782236row2_col2\" class=\"data row2 col2\" >$50.19</td>\n",
       "                        <td id=\"T_79ece43a_9366_11eb_9fad_940853782236row2_col3\" class=\"data row2 col3\" >$4.56</td>\n",
       "            </tr>\n",
       "    </tbody></table>"
      ],
      "text/plain": [
       "<pandas.io.formats.style.Styler at 0x24ba51d37f0>"
      ]
     },
     "execution_count": 95,
     "metadata": {},
     "output_type": "execute_result"
    }
   ],
   "source": [
    "purchase_analysis_df = pd.DataFrame({\"Purchase Count\": purchase_analysis,\n",
    "                                    \"Average Purchase Price\": avg_purch_value,\n",
    "                                    \"Total Purchase Value\": tot_purch_value,\n",
    "                                     \"Avg Total Purchase per Person\": tot_purch_value/gender_totals,\n",
    "                                    })\n",
    "purchase_analysis_df.style.format({\"Average Purchase Price\": \"${:.2f}\", \"Total Purchase Value\": \"${:.2f}\", \"Avg Total Purchase per Person\": \"${:.2f}\"})"
   ]
  },
  {
   "cell_type": "code",
   "execution_count": 32,
   "metadata": {},
   "outputs": [],
   "source": [
    "age_bin = [0, 9.9, 14.9, 19.9, 24.9, 29.9, 34.9, 39.9, 100]\n",
    "\n",
    "age_groups = [\"<10\", \"10-14\", \"15-19\", \"20-24\", \"25-29\", \"30-34\", \"35-39\", \"40+\"]"
   ]
  },
  {
   "cell_type": "code",
   "execution_count": 33,
   "metadata": {},
   "outputs": [],
   "source": [
    "purchase_data[\"Age Range\"] = pd.cut(purchase_data[\"Age\"], age_bin, labels = age_groups, include_lowest = True)"
   ]
  },
  {
   "cell_type": "code",
   "execution_count": 45,
   "metadata": {},
   "outputs": [
    {
     "data": {
      "text/plain": [
       "Age Range\n",
       "<10       2.951389\n",
       "10-14     3.819444\n",
       "15-19    18.576389\n",
       "20-24    44.791667\n",
       "25-29    13.368056\n",
       "30-34     9.027778\n",
       "35-39     5.381944\n",
       "40+       2.083333\n",
       "Name: SN, dtype: float64"
      ]
     },
     "execution_count": 45,
     "metadata": {},
     "output_type": "execute_result"
    }
   ],
   "source": [
    "tot_count = purchase_data.groupby('Age Range')[\"SN\"].nunique()\n",
    "tot_count\n",
    "percentage_players = tot_count/Length * 100\n",
    "percentage_players"
   ]
  },
  {
   "cell_type": "code",
   "execution_count": 42,
   "metadata": {},
   "outputs": [
    {
     "data": {
      "text/html": [
       "<style  type=\"text/css\" >\n",
       "</style><table id=\"T_96c5514c_9360_11eb_85bc_940853782236\" ><thead>    <tr>        <th class=\"blank level0\" ></th>        <th class=\"col_heading level0 col0\" >Total Count</th>        <th class=\"col_heading level0 col1\" >Percentage of Players</th>    </tr>    <tr>        <th class=\"index_name level0\" >Age Range</th>        <th class=\"blank\" ></th>        <th class=\"blank\" ></th>    </tr></thead><tbody>\n",
       "                <tr>\n",
       "                        <th id=\"T_96c5514c_9360_11eb_85bc_940853782236level0_row0\" class=\"row_heading level0 row0\" ><10</th>\n",
       "                        <td id=\"T_96c5514c_9360_11eb_85bc_940853782236row0_col0\" class=\"data row0 col0\" >17</td>\n",
       "                        <td id=\"T_96c5514c_9360_11eb_85bc_940853782236row0_col1\" class=\"data row0 col1\" >2.95%</td>\n",
       "            </tr>\n",
       "            <tr>\n",
       "                        <th id=\"T_96c5514c_9360_11eb_85bc_940853782236level0_row1\" class=\"row_heading level0 row1\" >10-14</th>\n",
       "                        <td id=\"T_96c5514c_9360_11eb_85bc_940853782236row1_col0\" class=\"data row1 col0\" >22</td>\n",
       "                        <td id=\"T_96c5514c_9360_11eb_85bc_940853782236row1_col1\" class=\"data row1 col1\" >3.82%</td>\n",
       "            </tr>\n",
       "            <tr>\n",
       "                        <th id=\"T_96c5514c_9360_11eb_85bc_940853782236level0_row2\" class=\"row_heading level0 row2\" >15-19</th>\n",
       "                        <td id=\"T_96c5514c_9360_11eb_85bc_940853782236row2_col0\" class=\"data row2 col0\" >107</td>\n",
       "                        <td id=\"T_96c5514c_9360_11eb_85bc_940853782236row2_col1\" class=\"data row2 col1\" >18.58%</td>\n",
       "            </tr>\n",
       "            <tr>\n",
       "                        <th id=\"T_96c5514c_9360_11eb_85bc_940853782236level0_row3\" class=\"row_heading level0 row3\" >20-24</th>\n",
       "                        <td id=\"T_96c5514c_9360_11eb_85bc_940853782236row3_col0\" class=\"data row3 col0\" >258</td>\n",
       "                        <td id=\"T_96c5514c_9360_11eb_85bc_940853782236row3_col1\" class=\"data row3 col1\" >44.79%</td>\n",
       "            </tr>\n",
       "            <tr>\n",
       "                        <th id=\"T_96c5514c_9360_11eb_85bc_940853782236level0_row4\" class=\"row_heading level0 row4\" >25-29</th>\n",
       "                        <td id=\"T_96c5514c_9360_11eb_85bc_940853782236row4_col0\" class=\"data row4 col0\" >77</td>\n",
       "                        <td id=\"T_96c5514c_9360_11eb_85bc_940853782236row4_col1\" class=\"data row4 col1\" >13.37%</td>\n",
       "            </tr>\n",
       "            <tr>\n",
       "                        <th id=\"T_96c5514c_9360_11eb_85bc_940853782236level0_row5\" class=\"row_heading level0 row5\" >30-34</th>\n",
       "                        <td id=\"T_96c5514c_9360_11eb_85bc_940853782236row5_col0\" class=\"data row5 col0\" >52</td>\n",
       "                        <td id=\"T_96c5514c_9360_11eb_85bc_940853782236row5_col1\" class=\"data row5 col1\" >9.03%</td>\n",
       "            </tr>\n",
       "            <tr>\n",
       "                        <th id=\"T_96c5514c_9360_11eb_85bc_940853782236level0_row6\" class=\"row_heading level0 row6\" >35-39</th>\n",
       "                        <td id=\"T_96c5514c_9360_11eb_85bc_940853782236row6_col0\" class=\"data row6 col0\" >31</td>\n",
       "                        <td id=\"T_96c5514c_9360_11eb_85bc_940853782236row6_col1\" class=\"data row6 col1\" >5.38%</td>\n",
       "            </tr>\n",
       "            <tr>\n",
       "                        <th id=\"T_96c5514c_9360_11eb_85bc_940853782236level0_row7\" class=\"row_heading level0 row7\" >40+</th>\n",
       "                        <td id=\"T_96c5514c_9360_11eb_85bc_940853782236row7_col0\" class=\"data row7 col0\" >12</td>\n",
       "                        <td id=\"T_96c5514c_9360_11eb_85bc_940853782236row7_col1\" class=\"data row7 col1\" >2.08%</td>\n",
       "            </tr>\n",
       "    </tbody></table>"
      ],
      "text/plain": [
       "<pandas.io.formats.style.Styler at 0x24ba40f7be0>"
      ]
     },
     "execution_count": 42,
     "metadata": {},
     "output_type": "execute_result"
    }
   ],
   "source": [
    "age_demographics_df = pd.DataFrame(\n",
    "    {\"Total Count\": tot_count,\n",
    " \"Percentage of Players\": percentage_players,\n",
    "    }\n",
    ")\n",
    "age_demographics_df.style.format({\"Percentage of Players\": \"{:.2f}%\"})"
   ]
  },
  {
   "cell_type": "code",
   "execution_count": 55,
   "metadata": {},
   "outputs": [
    {
     "data": {
      "text/html": [
       "<style  type=\"text/css\" >\n",
       "</style><table id=\"T_a8ee8fa6_9362_11eb_877e_940853782236\" ><thead>    <tr>        <th class=\"blank level0\" ></th>        <th class=\"col_heading level0 col0\" >Purchase Count</th>        <th class=\"col_heading level0 col1\" >Average Purchase Price</th>        <th class=\"col_heading level0 col2\" >Total Purchase Value</th>        <th class=\"col_heading level0 col3\" >Avg Total Purchase per Person</th>    </tr>    <tr>        <th class=\"index_name level0\" >Age Range</th>        <th class=\"blank\" ></th>        <th class=\"blank\" ></th>        <th class=\"blank\" ></th>        <th class=\"blank\" ></th>    </tr></thead><tbody>\n",
       "                <tr>\n",
       "                        <th id=\"T_a8ee8fa6_9362_11eb_877e_940853782236level0_row0\" class=\"row_heading level0 row0\" ><10</th>\n",
       "                        <td id=\"T_a8ee8fa6_9362_11eb_877e_940853782236row0_col0\" class=\"data row0 col0\" >23</td>\n",
       "                        <td id=\"T_a8ee8fa6_9362_11eb_877e_940853782236row0_col1\" class=\"data row0 col1\" >$3.35</td>\n",
       "                        <td id=\"T_a8ee8fa6_9362_11eb_877e_940853782236row0_col2\" class=\"data row0 col2\" >$77.13</td>\n",
       "                        <td id=\"T_a8ee8fa6_9362_11eb_877e_940853782236row0_col3\" class=\"data row0 col3\" >$4.54</td>\n",
       "            </tr>\n",
       "            <tr>\n",
       "                        <th id=\"T_a8ee8fa6_9362_11eb_877e_940853782236level0_row1\" class=\"row_heading level0 row1\" >10-14</th>\n",
       "                        <td id=\"T_a8ee8fa6_9362_11eb_877e_940853782236row1_col0\" class=\"data row1 col0\" >28</td>\n",
       "                        <td id=\"T_a8ee8fa6_9362_11eb_877e_940853782236row1_col1\" class=\"data row1 col1\" >$2.96</td>\n",
       "                        <td id=\"T_a8ee8fa6_9362_11eb_877e_940853782236row1_col2\" class=\"data row1 col2\" >$82.78</td>\n",
       "                        <td id=\"T_a8ee8fa6_9362_11eb_877e_940853782236row1_col3\" class=\"data row1 col3\" >$3.76</td>\n",
       "            </tr>\n",
       "            <tr>\n",
       "                        <th id=\"T_a8ee8fa6_9362_11eb_877e_940853782236level0_row2\" class=\"row_heading level0 row2\" >15-19</th>\n",
       "                        <td id=\"T_a8ee8fa6_9362_11eb_877e_940853782236row2_col0\" class=\"data row2 col0\" >136</td>\n",
       "                        <td id=\"T_a8ee8fa6_9362_11eb_877e_940853782236row2_col1\" class=\"data row2 col1\" >$3.04</td>\n",
       "                        <td id=\"T_a8ee8fa6_9362_11eb_877e_940853782236row2_col2\" class=\"data row2 col2\" >$412.89</td>\n",
       "                        <td id=\"T_a8ee8fa6_9362_11eb_877e_940853782236row2_col3\" class=\"data row2 col3\" >$3.86</td>\n",
       "            </tr>\n",
       "            <tr>\n",
       "                        <th id=\"T_a8ee8fa6_9362_11eb_877e_940853782236level0_row3\" class=\"row_heading level0 row3\" >20-24</th>\n",
       "                        <td id=\"T_a8ee8fa6_9362_11eb_877e_940853782236row3_col0\" class=\"data row3 col0\" >365</td>\n",
       "                        <td id=\"T_a8ee8fa6_9362_11eb_877e_940853782236row3_col1\" class=\"data row3 col1\" >$3.05</td>\n",
       "                        <td id=\"T_a8ee8fa6_9362_11eb_877e_940853782236row3_col2\" class=\"data row3 col2\" >$1,114.06</td>\n",
       "                        <td id=\"T_a8ee8fa6_9362_11eb_877e_940853782236row3_col3\" class=\"data row3 col3\" >$4.32</td>\n",
       "            </tr>\n",
       "            <tr>\n",
       "                        <th id=\"T_a8ee8fa6_9362_11eb_877e_940853782236level0_row4\" class=\"row_heading level0 row4\" >25-29</th>\n",
       "                        <td id=\"T_a8ee8fa6_9362_11eb_877e_940853782236row4_col0\" class=\"data row4 col0\" >101</td>\n",
       "                        <td id=\"T_a8ee8fa6_9362_11eb_877e_940853782236row4_col1\" class=\"data row4 col1\" >$2.90</td>\n",
       "                        <td id=\"T_a8ee8fa6_9362_11eb_877e_940853782236row4_col2\" class=\"data row4 col2\" >$293.00</td>\n",
       "                        <td id=\"T_a8ee8fa6_9362_11eb_877e_940853782236row4_col3\" class=\"data row4 col3\" >$3.81</td>\n",
       "            </tr>\n",
       "            <tr>\n",
       "                        <th id=\"T_a8ee8fa6_9362_11eb_877e_940853782236level0_row5\" class=\"row_heading level0 row5\" >30-34</th>\n",
       "                        <td id=\"T_a8ee8fa6_9362_11eb_877e_940853782236row5_col0\" class=\"data row5 col0\" >73</td>\n",
       "                        <td id=\"T_a8ee8fa6_9362_11eb_877e_940853782236row5_col1\" class=\"data row5 col1\" >$2.93</td>\n",
       "                        <td id=\"T_a8ee8fa6_9362_11eb_877e_940853782236row5_col2\" class=\"data row5 col2\" >$214.00</td>\n",
       "                        <td id=\"T_a8ee8fa6_9362_11eb_877e_940853782236row5_col3\" class=\"data row5 col3\" >$4.12</td>\n",
       "            </tr>\n",
       "            <tr>\n",
       "                        <th id=\"T_a8ee8fa6_9362_11eb_877e_940853782236level0_row6\" class=\"row_heading level0 row6\" >35-39</th>\n",
       "                        <td id=\"T_a8ee8fa6_9362_11eb_877e_940853782236row6_col0\" class=\"data row6 col0\" >41</td>\n",
       "                        <td id=\"T_a8ee8fa6_9362_11eb_877e_940853782236row6_col1\" class=\"data row6 col1\" >$3.60</td>\n",
       "                        <td id=\"T_a8ee8fa6_9362_11eb_877e_940853782236row6_col2\" class=\"data row6 col2\" >$147.67</td>\n",
       "                        <td id=\"T_a8ee8fa6_9362_11eb_877e_940853782236row6_col3\" class=\"data row6 col3\" >$4.76</td>\n",
       "            </tr>\n",
       "            <tr>\n",
       "                        <th id=\"T_a8ee8fa6_9362_11eb_877e_940853782236level0_row7\" class=\"row_heading level0 row7\" >40+</th>\n",
       "                        <td id=\"T_a8ee8fa6_9362_11eb_877e_940853782236row7_col0\" class=\"data row7 col0\" >13</td>\n",
       "                        <td id=\"T_a8ee8fa6_9362_11eb_877e_940853782236row7_col1\" class=\"data row7 col1\" >$2.94</td>\n",
       "                        <td id=\"T_a8ee8fa6_9362_11eb_877e_940853782236row7_col2\" class=\"data row7 col2\" >$38.24</td>\n",
       "                        <td id=\"T_a8ee8fa6_9362_11eb_877e_940853782236row7_col3\" class=\"data row7 col3\" >$3.19</td>\n",
       "            </tr>\n",
       "    </tbody></table>"
      ],
      "text/plain": [
       "<pandas.io.formats.style.Styler at 0x24ba51d3240>"
      ]
     },
     "execution_count": 55,
     "metadata": {},
     "output_type": "execute_result"
    }
   ],
   "source": [
    "age_df = pd.DataFrame(\n",
    "    {\"Purchase Count\": purchase_data.groupby('Age Range')['SN'].count(),\n",
    "     \"Average Purchase Price\": (purchase_data.groupby('Age Range')[\"Price\"].sum()/purchase_data.groupby('Age Range')['SN'].count()),\n",
    "    \"Total Purchase Value\": purchase_data.groupby('Age Range')[\"Price\"].sum(),\n",
    "     \"Avg Total Purchase per Person\": (purchase_data.groupby('Age Range')[\"Price\"].sum()/length_totals),\n",
    "     }\n",
    ")\n",
    "age_df.style.format({\"Average Purchase Price\": \"${:.2f}\",\"Total Purchase Value\": \"${:,.2f}\",\"Avg Total Purchase per Person\": \"${:.2f}\"})"
   ]
  },
  {
   "cell_type": "code",
   "execution_count": 56,
   "metadata": {},
   "outputs": [
    {
     "data": {
      "text/html": [
       "<div>\n",
       "<style scoped>\n",
       "    .dataframe tbody tr th:only-of-type {\n",
       "        vertical-align: middle;\n",
       "    }\n",
       "\n",
       "    .dataframe tbody tr th {\n",
       "        vertical-align: top;\n",
       "    }\n",
       "\n",
       "    .dataframe thead th {\n",
       "        text-align: right;\n",
       "    }\n",
       "</style>\n",
       "<table border=\"1\" class=\"dataframe\">\n",
       "  <thead>\n",
       "    <tr style=\"text-align: right;\">\n",
       "      <th></th>\n",
       "      <th>Purchase Count</th>\n",
       "      <th>Average Purchase Price</th>\n",
       "      <th>Total Purchase Value</th>\n",
       "    </tr>\n",
       "    <tr>\n",
       "      <th>SN</th>\n",
       "      <th></th>\n",
       "      <th></th>\n",
       "      <th></th>\n",
       "    </tr>\n",
       "  </thead>\n",
       "  <tbody>\n",
       "    <tr>\n",
       "      <th>Adairialis76</th>\n",
       "      <td>1</td>\n",
       "      <td>2.280000</td>\n",
       "      <td>2.28</td>\n",
       "    </tr>\n",
       "    <tr>\n",
       "      <th>Adastirin33</th>\n",
       "      <td>1</td>\n",
       "      <td>4.480000</td>\n",
       "      <td>4.48</td>\n",
       "    </tr>\n",
       "    <tr>\n",
       "      <th>Aeda94</th>\n",
       "      <td>1</td>\n",
       "      <td>4.910000</td>\n",
       "      <td>4.91</td>\n",
       "    </tr>\n",
       "    <tr>\n",
       "      <th>Aela59</th>\n",
       "      <td>1</td>\n",
       "      <td>4.320000</td>\n",
       "      <td>4.32</td>\n",
       "    </tr>\n",
       "    <tr>\n",
       "      <th>Aelaria33</th>\n",
       "      <td>1</td>\n",
       "      <td>1.790000</td>\n",
       "      <td>1.79</td>\n",
       "    </tr>\n",
       "    <tr>\n",
       "      <th>...</th>\n",
       "      <td>...</td>\n",
       "      <td>...</td>\n",
       "      <td>...</td>\n",
       "    </tr>\n",
       "    <tr>\n",
       "      <th>Yathecal82</th>\n",
       "      <td>3</td>\n",
       "      <td>2.073333</td>\n",
       "      <td>6.22</td>\n",
       "    </tr>\n",
       "    <tr>\n",
       "      <th>Yathedeu43</th>\n",
       "      <td>2</td>\n",
       "      <td>3.010000</td>\n",
       "      <td>6.02</td>\n",
       "    </tr>\n",
       "    <tr>\n",
       "      <th>Yoishirrala98</th>\n",
       "      <td>1</td>\n",
       "      <td>4.580000</td>\n",
       "      <td>4.58</td>\n",
       "    </tr>\n",
       "    <tr>\n",
       "      <th>Zhisrisu83</th>\n",
       "      <td>2</td>\n",
       "      <td>3.945000</td>\n",
       "      <td>7.89</td>\n",
       "    </tr>\n",
       "    <tr>\n",
       "      <th>Zontibe81</th>\n",
       "      <td>3</td>\n",
       "      <td>2.676667</td>\n",
       "      <td>8.03</td>\n",
       "    </tr>\n",
       "  </tbody>\n",
       "</table>\n",
       "<p>576 rows × 3 columns</p>\n",
       "</div>"
      ],
      "text/plain": [
       "               Purchase Count  Average Purchase Price  Total Purchase Value\n",
       "SN                                                                         \n",
       "Adairialis76                1                2.280000                  2.28\n",
       "Adastirin33                 1                4.480000                  4.48\n",
       "Aeda94                      1                4.910000                  4.91\n",
       "Aela59                      1                4.320000                  4.32\n",
       "Aelaria33                   1                1.790000                  1.79\n",
       "...                       ...                     ...                   ...\n",
       "Yathecal82                  3                2.073333                  6.22\n",
       "Yathedeu43                  2                3.010000                  6.02\n",
       "Yoishirrala98               1                4.580000                  4.58\n",
       "Zhisrisu83                  2                3.945000                  7.89\n",
       "Zontibe81                   3                2.676667                  8.03\n",
       "\n",
       "[576 rows x 3 columns]"
      ]
     },
     "execution_count": 56,
     "metadata": {},
     "output_type": "execute_result"
    }
   ],
   "source": [
    "top_spender_df = pd.DataFrame(\n",
    "{\"Purchase Count\": purchase_data.groupby('SN')['Purchase ID'].count(),\n",
    " \"Average Purchase Price\": (purchase_data.groupby('SN')[\"Price\"].sum()/purchase_data.groupby('SN')['Purchase ID'].count()),\n",
    "\"Total Purchase Value\": purchase_data.groupby('SN')[\"Price\"].sum()\n",
    "})\n",
    "top_spender_df"
   ]
  },
  {
   "cell_type": "code",
   "execution_count": 58,
   "metadata": {},
   "outputs": [
    {
     "data": {
      "text/html": [
       "<style  type=\"text/css\" >\n",
       "</style><table id=\"T_e4566458_9362_11eb_b3ec_940853782236\" ><thead>    <tr>        <th class=\"blank level0\" ></th>        <th class=\"col_heading level0 col0\" >Purchase Count</th>        <th class=\"col_heading level0 col1\" >Average Purchase Price</th>        <th class=\"col_heading level0 col2\" >Total Purchase Value</th>    </tr>    <tr>        <th class=\"index_name level0\" >SN</th>        <th class=\"blank\" ></th>        <th class=\"blank\" ></th>        <th class=\"blank\" ></th>    </tr></thead><tbody>\n",
       "                <tr>\n",
       "                        <th id=\"T_e4566458_9362_11eb_b3ec_940853782236level0_row0\" class=\"row_heading level0 row0\" >Lisosia93</th>\n",
       "                        <td id=\"T_e4566458_9362_11eb_b3ec_940853782236row0_col0\" class=\"data row0 col0\" >5</td>\n",
       "                        <td id=\"T_e4566458_9362_11eb_b3ec_940853782236row0_col1\" class=\"data row0 col1\" >$3.79</td>\n",
       "                        <td id=\"T_e4566458_9362_11eb_b3ec_940853782236row0_col2\" class=\"data row0 col2\" >$18.96</td>\n",
       "            </tr>\n",
       "            <tr>\n",
       "                        <th id=\"T_e4566458_9362_11eb_b3ec_940853782236level0_row1\" class=\"row_heading level0 row1\" >Idastidru52</th>\n",
       "                        <td id=\"T_e4566458_9362_11eb_b3ec_940853782236row1_col0\" class=\"data row1 col0\" >4</td>\n",
       "                        <td id=\"T_e4566458_9362_11eb_b3ec_940853782236row1_col1\" class=\"data row1 col1\" >$3.86</td>\n",
       "                        <td id=\"T_e4566458_9362_11eb_b3ec_940853782236row1_col2\" class=\"data row1 col2\" >$15.45</td>\n",
       "            </tr>\n",
       "            <tr>\n",
       "                        <th id=\"T_e4566458_9362_11eb_b3ec_940853782236level0_row2\" class=\"row_heading level0 row2\" >Chamjask73</th>\n",
       "                        <td id=\"T_e4566458_9362_11eb_b3ec_940853782236row2_col0\" class=\"data row2 col0\" >3</td>\n",
       "                        <td id=\"T_e4566458_9362_11eb_b3ec_940853782236row2_col1\" class=\"data row2 col1\" >$4.61</td>\n",
       "                        <td id=\"T_e4566458_9362_11eb_b3ec_940853782236row2_col2\" class=\"data row2 col2\" >$13.83</td>\n",
       "            </tr>\n",
       "            <tr>\n",
       "                        <th id=\"T_e4566458_9362_11eb_b3ec_940853782236level0_row3\" class=\"row_heading level0 row3\" >Iral74</th>\n",
       "                        <td id=\"T_e4566458_9362_11eb_b3ec_940853782236row3_col0\" class=\"data row3 col0\" >4</td>\n",
       "                        <td id=\"T_e4566458_9362_11eb_b3ec_940853782236row3_col1\" class=\"data row3 col1\" >$3.40</td>\n",
       "                        <td id=\"T_e4566458_9362_11eb_b3ec_940853782236row3_col2\" class=\"data row3 col2\" >$13.62</td>\n",
       "            </tr>\n",
       "            <tr>\n",
       "                        <th id=\"T_e4566458_9362_11eb_b3ec_940853782236level0_row4\" class=\"row_heading level0 row4\" >Iskadarya95</th>\n",
       "                        <td id=\"T_e4566458_9362_11eb_b3ec_940853782236row4_col0\" class=\"data row4 col0\" >3</td>\n",
       "                        <td id=\"T_e4566458_9362_11eb_b3ec_940853782236row4_col1\" class=\"data row4 col1\" >$4.37</td>\n",
       "                        <td id=\"T_e4566458_9362_11eb_b3ec_940853782236row4_col2\" class=\"data row4 col2\" >$13.10</td>\n",
       "            </tr>\n",
       "    </tbody></table>"
      ],
      "text/plain": [
       "<pandas.io.formats.style.Styler at 0x24ba50b3048>"
      ]
     },
     "execution_count": 58,
     "metadata": {},
     "output_type": "execute_result"
    }
   ],
   "source": [
    "top_spender_df.sort_values(by=['Total Purchase Value'], inplace=True, ascending=False)\n",
    "top_spender_df.head(5).style.format({\"Average Purchase Price\": \"${:.2f}\", \"Total Purchase Value\": \"${:.2f}\"})"
   ]
  },
  {
   "cell_type": "code",
   "execution_count": 64,
   "metadata": {},
   "outputs": [
    {
     "data": {
      "text/html": [
       "<div>\n",
       "<style scoped>\n",
       "    .dataframe tbody tr th:only-of-type {\n",
       "        vertical-align: middle;\n",
       "    }\n",
       "\n",
       "    .dataframe tbody tr th {\n",
       "        vertical-align: top;\n",
       "    }\n",
       "\n",
       "    .dataframe thead th {\n",
       "        text-align: right;\n",
       "    }\n",
       "</style>\n",
       "<table border=\"1\" class=\"dataframe\">\n",
       "  <thead>\n",
       "    <tr style=\"text-align: right;\">\n",
       "      <th></th>\n",
       "      <th>Purchase Count</th>\n",
       "      <th>Item Price</th>\n",
       "      <th>Total Purchase Value</th>\n",
       "    </tr>\n",
       "    <tr>\n",
       "      <th>Item ID</th>\n",
       "      <th></th>\n",
       "      <th></th>\n",
       "      <th></th>\n",
       "    </tr>\n",
       "  </thead>\n",
       "  <tbody>\n",
       "    <tr>\n",
       "      <th>0</th>\n",
       "      <td>4</td>\n",
       "      <td>1.2800</td>\n",
       "      <td>5.12</td>\n",
       "    </tr>\n",
       "    <tr>\n",
       "      <th>1</th>\n",
       "      <td>4</td>\n",
       "      <td>2.9425</td>\n",
       "      <td>11.77</td>\n",
       "    </tr>\n",
       "    <tr>\n",
       "      <th>2</th>\n",
       "      <td>6</td>\n",
       "      <td>2.4800</td>\n",
       "      <td>14.88</td>\n",
       "    </tr>\n",
       "    <tr>\n",
       "      <th>3</th>\n",
       "      <td>6</td>\n",
       "      <td>2.4900</td>\n",
       "      <td>14.94</td>\n",
       "    </tr>\n",
       "    <tr>\n",
       "      <th>4</th>\n",
       "      <td>5</td>\n",
       "      <td>1.7000</td>\n",
       "      <td>8.50</td>\n",
       "    </tr>\n",
       "    <tr>\n",
       "      <th>...</th>\n",
       "      <td>...</td>\n",
       "      <td>...</td>\n",
       "      <td>...</td>\n",
       "    </tr>\n",
       "    <tr>\n",
       "      <th>178</th>\n",
       "      <td>12</td>\n",
       "      <td>4.2300</td>\n",
       "      <td>50.76</td>\n",
       "    </tr>\n",
       "    <tr>\n",
       "      <th>179</th>\n",
       "      <td>6</td>\n",
       "      <td>4.4800</td>\n",
       "      <td>26.88</td>\n",
       "    </tr>\n",
       "    <tr>\n",
       "      <th>181</th>\n",
       "      <td>5</td>\n",
       "      <td>1.6600</td>\n",
       "      <td>8.30</td>\n",
       "    </tr>\n",
       "    <tr>\n",
       "      <th>182</th>\n",
       "      <td>3</td>\n",
       "      <td>4.0300</td>\n",
       "      <td>12.09</td>\n",
       "    </tr>\n",
       "    <tr>\n",
       "      <th>183</th>\n",
       "      <td>3</td>\n",
       "      <td>1.0900</td>\n",
       "      <td>3.27</td>\n",
       "    </tr>\n",
       "  </tbody>\n",
       "</table>\n",
       "<p>179 rows × 3 columns</p>\n",
       "</div>"
      ],
      "text/plain": [
       "         Purchase Count  Item Price  Total Purchase Value\n",
       "Item ID                                                  \n",
       "0                     4      1.2800                  5.12\n",
       "1                     4      2.9425                 11.77\n",
       "2                     6      2.4800                 14.88\n",
       "3                     6      2.4900                 14.94\n",
       "4                     5      1.7000                  8.50\n",
       "...                 ...         ...                   ...\n",
       "178                  12      4.2300                 50.76\n",
       "179                   6      4.4800                 26.88\n",
       "181                   5      1.6600                  8.30\n",
       "182                   3      4.0300                 12.09\n",
       "183                   3      1.0900                  3.27\n",
       "\n",
       "[179 rows x 3 columns]"
      ]
     },
     "execution_count": 64,
     "metadata": {},
     "output_type": "execute_result"
    }
   ],
   "source": [
    "Pop_df = pd.DataFrame(\n",
    "{\"Purchase Count\": purchase_data.groupby(\"Item ID\")[\"Item Name\"].count(),\n",
    " \"Item Price\": (purchase_data.groupby(\"Item ID\")[\"Price\"].sum()/purchase_data.groupby(\"Item ID\")[\"Item Name\"].count()),\n",
    "\"Total Purchase Value\": purchase_data.groupby(\"Item ID\")[\"Price\"].sum()\n",
    "})\n",
    "Pop_df"
   ]
  },
  {
   "cell_type": "code",
   "execution_count": 65,
   "metadata": {},
   "outputs": [
    {
     "data": {
      "text/html": [
       "<style  type=\"text/css\" >\n",
       "</style><table id=\"T_4d933b92_9363_11eb_90e8_940853782236\" ><thead>    <tr>        <th class=\"blank level0\" ></th>        <th class=\"col_heading level0 col0\" >Purchase Count</th>        <th class=\"col_heading level0 col1\" >Item Price</th>        <th class=\"col_heading level0 col2\" >Total Purchase Value</th>    </tr>    <tr>        <th class=\"index_name level0\" >Item ID</th>        <th class=\"blank\" ></th>        <th class=\"blank\" ></th>        <th class=\"blank\" ></th>    </tr></thead><tbody>\n",
       "                <tr>\n",
       "                        <th id=\"T_4d933b92_9363_11eb_90e8_940853782236level0_row0\" class=\"row_heading level0 row0\" >92</th>\n",
       "                        <td id=\"T_4d933b92_9363_11eb_90e8_940853782236row0_col0\" class=\"data row0 col0\" >13</td>\n",
       "                        <td id=\"T_4d933b92_9363_11eb_90e8_940853782236row0_col1\" class=\"data row0 col1\" >$4.61</td>\n",
       "                        <td id=\"T_4d933b92_9363_11eb_90e8_940853782236row0_col2\" class=\"data row0 col2\" >$59.99</td>\n",
       "            </tr>\n",
       "            <tr>\n",
       "                        <th id=\"T_4d933b92_9363_11eb_90e8_940853782236level0_row1\" class=\"row_heading level0 row1\" >178</th>\n",
       "                        <td id=\"T_4d933b92_9363_11eb_90e8_940853782236row1_col0\" class=\"data row1 col0\" >12</td>\n",
       "                        <td id=\"T_4d933b92_9363_11eb_90e8_940853782236row1_col1\" class=\"data row1 col1\" >$4.23</td>\n",
       "                        <td id=\"T_4d933b92_9363_11eb_90e8_940853782236row1_col2\" class=\"data row1 col2\" >$50.76</td>\n",
       "            </tr>\n",
       "            <tr>\n",
       "                        <th id=\"T_4d933b92_9363_11eb_90e8_940853782236level0_row2\" class=\"row_heading level0 row2\" >145</th>\n",
       "                        <td id=\"T_4d933b92_9363_11eb_90e8_940853782236row2_col0\" class=\"data row2 col0\" >9</td>\n",
       "                        <td id=\"T_4d933b92_9363_11eb_90e8_940853782236row2_col1\" class=\"data row2 col1\" >$4.58</td>\n",
       "                        <td id=\"T_4d933b92_9363_11eb_90e8_940853782236row2_col2\" class=\"data row2 col2\" >$41.22</td>\n",
       "            </tr>\n",
       "            <tr>\n",
       "                        <th id=\"T_4d933b92_9363_11eb_90e8_940853782236level0_row3\" class=\"row_heading level0 row3\" >132</th>\n",
       "                        <td id=\"T_4d933b92_9363_11eb_90e8_940853782236row3_col0\" class=\"data row3 col0\" >9</td>\n",
       "                        <td id=\"T_4d933b92_9363_11eb_90e8_940853782236row3_col1\" class=\"data row3 col1\" >$3.22</td>\n",
       "                        <td id=\"T_4d933b92_9363_11eb_90e8_940853782236row3_col2\" class=\"data row3 col2\" >$28.99</td>\n",
       "            </tr>\n",
       "            <tr>\n",
       "                        <th id=\"T_4d933b92_9363_11eb_90e8_940853782236level0_row4\" class=\"row_heading level0 row4\" >108</th>\n",
       "                        <td id=\"T_4d933b92_9363_11eb_90e8_940853782236row4_col0\" class=\"data row4 col0\" >9</td>\n",
       "                        <td id=\"T_4d933b92_9363_11eb_90e8_940853782236row4_col1\" class=\"data row4 col1\" >$3.53</td>\n",
       "                        <td id=\"T_4d933b92_9363_11eb_90e8_940853782236row4_col2\" class=\"data row4 col2\" >$31.77</td>\n",
       "            </tr>\n",
       "    </tbody></table>"
      ],
      "text/plain": [
       "<pandas.io.formats.style.Styler at 0x24ba51d3dd8>"
      ]
     },
     "execution_count": 65,
     "metadata": {},
     "output_type": "execute_result"
    }
   ],
   "source": [
    "Pop_df.sort_values(by=('Purchase Count'), inplace=True, ascending=False)\n",
    "Pop_df.head(5).style.format({\"Item Price\": \"${:.2f}\", \"Total Purchase Value\": \"${:.2f}\"})"
   ]
  },
  {
   "cell_type": "code",
   "execution_count": 67,
   "metadata": {},
   "outputs": [
    {
     "data": {
      "text/html": [
       "<style  type=\"text/css\" >\n",
       "</style><table id=\"T_64c8c41a_9363_11eb_a207_940853782236\" ><thead>    <tr>        <th class=\"blank level0\" ></th>        <th class=\"col_heading level0 col0\" >Purchase Count</th>        <th class=\"col_heading level0 col1\" >Item Price</th>        <th class=\"col_heading level0 col2\" >Total Purchase Value</th>    </tr>    <tr>        <th class=\"index_name level0\" >Item ID</th>        <th class=\"blank\" ></th>        <th class=\"blank\" ></th>        <th class=\"blank\" ></th>    </tr></thead><tbody>\n",
       "                <tr>\n",
       "                        <th id=\"T_64c8c41a_9363_11eb_a207_940853782236level0_row0\" class=\"row_heading level0 row0\" >92</th>\n",
       "                        <td id=\"T_64c8c41a_9363_11eb_a207_940853782236row0_col0\" class=\"data row0 col0\" >13</td>\n",
       "                        <td id=\"T_64c8c41a_9363_11eb_a207_940853782236row0_col1\" class=\"data row0 col1\" >$4.61</td>\n",
       "                        <td id=\"T_64c8c41a_9363_11eb_a207_940853782236row0_col2\" class=\"data row0 col2\" >$59.99</td>\n",
       "            </tr>\n",
       "            <tr>\n",
       "                        <th id=\"T_64c8c41a_9363_11eb_a207_940853782236level0_row1\" class=\"row_heading level0 row1\" >178</th>\n",
       "                        <td id=\"T_64c8c41a_9363_11eb_a207_940853782236row1_col0\" class=\"data row1 col0\" >12</td>\n",
       "                        <td id=\"T_64c8c41a_9363_11eb_a207_940853782236row1_col1\" class=\"data row1 col1\" >$4.23</td>\n",
       "                        <td id=\"T_64c8c41a_9363_11eb_a207_940853782236row1_col2\" class=\"data row1 col2\" >$50.76</td>\n",
       "            </tr>\n",
       "            <tr>\n",
       "                        <th id=\"T_64c8c41a_9363_11eb_a207_940853782236level0_row2\" class=\"row_heading level0 row2\" >82</th>\n",
       "                        <td id=\"T_64c8c41a_9363_11eb_a207_940853782236row2_col0\" class=\"data row2 col0\" >9</td>\n",
       "                        <td id=\"T_64c8c41a_9363_11eb_a207_940853782236row2_col1\" class=\"data row2 col1\" >$4.90</td>\n",
       "                        <td id=\"T_64c8c41a_9363_11eb_a207_940853782236row2_col2\" class=\"data row2 col2\" >$44.10</td>\n",
       "            </tr>\n",
       "            <tr>\n",
       "                        <th id=\"T_64c8c41a_9363_11eb_a207_940853782236level0_row3\" class=\"row_heading level0 row3\" >145</th>\n",
       "                        <td id=\"T_64c8c41a_9363_11eb_a207_940853782236row3_col0\" class=\"data row3 col0\" >9</td>\n",
       "                        <td id=\"T_64c8c41a_9363_11eb_a207_940853782236row3_col1\" class=\"data row3 col1\" >$4.58</td>\n",
       "                        <td id=\"T_64c8c41a_9363_11eb_a207_940853782236row3_col2\" class=\"data row3 col2\" >$41.22</td>\n",
       "            </tr>\n",
       "            <tr>\n",
       "                        <th id=\"T_64c8c41a_9363_11eb_a207_940853782236level0_row4\" class=\"row_heading level0 row4\" >103</th>\n",
       "                        <td id=\"T_64c8c41a_9363_11eb_a207_940853782236row4_col0\" class=\"data row4 col0\" >8</td>\n",
       "                        <td id=\"T_64c8c41a_9363_11eb_a207_940853782236row4_col1\" class=\"data row4 col1\" >$4.35</td>\n",
       "                        <td id=\"T_64c8c41a_9363_11eb_a207_940853782236row4_col2\" class=\"data row4 col2\" >$34.80</td>\n",
       "            </tr>\n",
       "    </tbody></table>"
      ],
      "text/plain": [
       "<pandas.io.formats.style.Styler at 0x24ba5105828>"
      ]
     },
     "execution_count": 67,
     "metadata": {},
     "output_type": "execute_result"
    }
   ],
   "source": [
    "Pop_df.sort_values(by=('Total Purchase Value'), inplace=True, ascending=False)\n",
    "Pop_df.head(5).style.format({\"Item Price\": \"${:.2f}\", \"Total Purchase Value\": \"${:.2f}\"})"
   ]
  }
 ],
 "metadata": {
  "kernelspec": {
   "display_name": "Python [conda env:PythonData] *",
   "language": "python",
   "name": "conda-env-PythonData-py"
  },
  "language_info": {
   "codemirror_mode": {
    "name": "ipython",
    "version": 3
   },
   "file_extension": ".py",
   "mimetype": "text/x-python",
   "name": "python",
   "nbconvert_exporter": "python",
   "pygments_lexer": "ipython3",
   "version": "3.6.10"
  }
 },
 "nbformat": 4,
 "nbformat_minor": 4
}
